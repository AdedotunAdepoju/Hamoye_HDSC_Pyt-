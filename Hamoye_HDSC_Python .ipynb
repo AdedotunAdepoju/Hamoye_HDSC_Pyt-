{
 "cells": [
  {
   "cell_type": "code",
   "execution_count": 65,
   "id": "ac81f6bc",
   "metadata": {},
   "outputs": [
    {
     "name": "stdout",
     "output_type": "stream",
     "text": [
      "   Area Code     Area  Item Code         Item  Element Code  \\\n",
      "0          4  Algeria       2501   Population           511   \n",
      "1          4  Algeria       2501   Population          5301   \n",
      "2          4  Algeria       2901  Grand Total           664   \n",
      "3          4  Algeria       2901  Grand Total           674   \n",
      "4          4  Algeria       2901  Grand Total           684   \n",
      "\n",
      "                                  Element             Unit     Y2014  \\\n",
      "0           Total Population - Both sexes     1000 persons  38924.00   \n",
      "1                Domestic supply quantity      1000 tonnes      0.00   \n",
      "2           Food supply (kcal/capita/day)  kcal/capita/day   3377.00   \n",
      "3  Protein supply quantity (g/capita/day)     g/capita/day     94.90   \n",
      "4      Fat supply quantity (g/capita/day)     g/capita/day     80.06   \n",
      "\n",
      "      Y2015     Y2016     Y2017     Y2018  \n",
      "0  39728.00  40551.00  41389.00  42228.00  \n",
      "1      0.00      0.00      0.00      0.00  \n",
      "2   3379.00   3372.00   3341.00   3322.00  \n",
      "3     94.35     94.72     92.82     91.83  \n",
      "4     79.36     77.40     80.19     77.28  \n"
     ]
    }
   ],
   "source": [
    "import pandas as pd\n",
    "\n",
    "# Create a DataFrame\n",
    "data = pd.read_csv(\"https://github.com/HamoyeHQ/HDSC-Introduction-to-Python-for-machine-learning/files/7768140/FoodBalanceSheets_E_Africa_NOFLAG.csv\", encoding = \"latin-1\")\n",
    "\n",
    "\n",
    "# Display the first few rows of the dataframe\n",
    "print(data.head())\n"
   ]
  },
  {
   "cell_type": "code",
   "execution_count": 66,
   "id": "4014f9d4",
   "metadata": {},
   "outputs": [
    {
     "name": "stdout",
     "output_type": "stream",
     "text": [
      "Area with the highest sum in 2017: Nigeria\n"
     ]
    }
   ],
   "source": [
    "data = pd.read_csv(\"https://github.com/HamoyeHQ/HDSC-Introduction-to-Python-for-machine-learning/files/7768140/FoodBalanceSheets_E_Africa_NOFLAG.csv\", encoding = \"latin-1\")\n",
    "\n",
    "\n",
    "# Create a DataFrame\n",
    "df = pd.DataFrame(data)\n",
    "\n",
    "# Select 'Y2017' and 'Area' columns\n",
    "df_selected = df[['Y2017', 'Area']]\n",
    "\n",
    "# Perform groupby operation on 'Area' and sum the values in 'Y2017'\n",
    "sum_2017 = df_selected.groupby('Area').sum()\n",
    "\n",
    "# Find the area with the highest sum in 2017\n",
    "area_highest_sum = sum_2017.idxmax().values[0]\n",
    "\n",
    "print(\"Area with the highest sum in 2017:\", area_highest_sum)\n"
   ]
  },
  {
   "cell_type": "code",
   "execution_count": 67,
   "id": "8d1ad47f",
   "metadata": {},
   "outputs": [
    {
     "name": "stdout",
     "output_type": "stream",
     "text": [
      "Year with the least correlation with 'Element Code': Y2017\n"
     ]
    }
   ],
   "source": [
    "import numpy as np\n",
    "\n",
    "# Calculate correlation between 'Element Code' and each year column\n",
    "numeric_columns = df.select_dtypes(include=[np.number]).columns\n",
    "\n",
    "\n",
    "# Calculate correlation between 'Element Code' and each year column\n",
    "correlations = df[numeric_columns].corr().loc['Element Code', 'Y2017':]\n",
    "\n",
    "# Find the year with the least correlation\n",
    "year_least_correlation = correlations.idxmin()\n",
    "\n",
    "print(\"Year with the least correlation with 'Element Code':\", year_least_correlation)"
   ]
  },
  {
   "cell_type": "code",
   "execution_count": 68,
   "id": "ed937933",
   "metadata": {},
   "outputs": [
    {
     "name": "stdout",
     "output_type": "stream",
     "text": [
      "Number of rows: 60943\n",
      "Number of columns: 12\n"
     ]
    }
   ],
   "source": [
    "num_rows, num_columns = df.shape\n",
    "print(\"Number of rows:\", num_rows)\n",
    "print(\"Number of columns:\", num_columns)"
   ]
  },
  {
   "cell_type": "code",
   "execution_count": 69,
   "id": "a2562ee8",
   "metadata": {},
   "outputs": [
    {
     "name": "stdout",
     "output_type": "stream",
     "text": [
      "Total number of missing data in 2014: 0.0\n",
      "Percentage of missing data in 2014: nan%\n"
     ]
    },
    {
     "name": "stderr",
     "output_type": "stream",
     "text": [
      "C:\\Users\\USER\\AppData\\Local\\Temp\\ipykernel_8460\\4272711993.py:3: RuntimeWarning: invalid value encountered in scalar divide\n",
      "  percentage_missing_2014 = (missing_data_2014 / total_data_2014) * 100\n"
     ]
    }
   ],
   "source": [
    "missing_data_2014 = df[df['Element Code'] == 2014].isnull().sum().sum()\n",
    "total_data_2014 = df[df['Element Code'] == 2014].size\n",
    "percentage_missing_2014 = (missing_data_2014 / total_data_2014) * 100\n",
    "\n",
    "print(\"Total number of missing data in 2014:\", missing_data_2014)\n",
    "print(\"Percentage of missing data in 2014: {:.3f}%\".format(percentage_missing_2014))"
   ]
  },
  {
   "cell_type": "code",
   "execution_count": 70,
   "id": "5ac5dfa0",
   "metadata": {},
   "outputs": [
    {
     "name": "stdout",
     "output_type": "stream",
     "text": [
      "   Age Nationality  Overall\n",
      "0   35    Portugal       94\n",
      "1   33   Argentina       93\n",
      "2   30      Brazil       92\n"
     ]
    }
   ],
   "source": [
    "lst = [[35, 'Portugal', 94], [33, 'Argentina', 93], [30, 'Brazil', 92]]\n",
    "col = ['Age', 'Nationality', 'Overall']\n",
    "\n",
    "df = pd.DataFrame(lst, columns=col)\n",
    "print(df)"
   ]
  },
  {
   "cell_type": "code",
   "execution_count": 62,
   "id": "3b6ef654",
   "metadata": {},
   "outputs": [],
   "source": [
    "# Reset index to move 'Element' from index to column\n",
    "df_reset = df.reset_index()\n",
    "\n",
    "# Group by 'Element' and sum the 'Stock Variation' for each year\n",
    "element_group = df_reset.groupby('Element')['Stock Variation'].sum()\n",
    "\n",
    "# Find the year with the highest sum of Stock Variation\n",
    "year_highest_sum = element_group.idxmax()\n",
    "\n"
   ]
  },
  {
   "cell_type": "code",
   "execution_count": 91,
   "id": "55a24a90",
   "metadata": {},
   "outputs": [
    {
     "name": "stdout",
     "output_type": "stream",
     "text": [
      "[[94 63]\n",
      " [92 56]]\n"
     ]
    }
   ],
   "source": [
    "import numpy as np\n",
    "\n",
    "array = np.array([[94, 89, 63],\n",
    "                   [93, 92, 48],\n",
    "                   [92, 94, 56]])\n",
    "\n",
    "selected_elements = array[[0, 2]][:, [0, 2]]\n",
    "print(selected_elements)"
   ]
  },
  {
   "cell_type": "code",
   "execution_count": 85,
   "id": "e665db0d",
   "metadata": {},
   "outputs": [],
   "source": [
    "\n",
    "# Remove leading and trailing whitespaces from column names\n",
    "df.columns = df.columns.str.strip()\n",
    "# Perform the groupby operation\n",
    "result = df.groupby('Area')['Y2017'].sum().sort_values().reset_index()\n",
    "\n",
    "# Get the 7th lowest sum and its corresponding 'Area'\n",
    "seventh_lowest_sum = result.iloc[6]['Y2017']\n",
    "\n"
   ]
  },
  {
   "cell_type": "code",
   "execution_count": 88,
   "id": "a1cea7ed",
   "metadata": {},
   "outputs": [],
   "source": [
    "# total_unique_countries = df['Area'].nunique()\n",
    "# # print(total_unique_countries)"
   ]
  },
  {
   "cell_type": "code",
   "execution_count": 89,
   "id": "5d79681d",
   "metadata": {},
   "outputs": [
    {
     "name": "stdout",
     "output_type": "stream",
     "text": [
      "e\n"
     ]
    }
   ],
   "source": [
    "S = [['him', 'sell'], [90, 28, 43]]\n",
    "print(S[0][1][1]) # Output: 'e'"
   ]
  },
  {
   "cell_type": "code",
   "execution_count": null,
   "id": "22d8e028",
   "metadata": {},
   "outputs": [],
   "source": []
  },
  {
   "cell_type": "code",
   "execution_count": null,
   "id": "ab6e19db",
   "metadata": {},
   "outputs": [],
   "source": []
  }
 ],
 "metadata": {
  "kernelspec": {
   "display_name": "Python 3 (ipykernel)",
   "language": "python",
   "name": "python3"
  },
  "language_info": {
   "codemirror_mode": {
    "name": "ipython",
    "version": 3
   },
   "file_extension": ".py",
   "mimetype": "text/x-python",
   "name": "python",
   "nbconvert_exporter": "python",
   "pygments_lexer": "ipython3",
   "version": "3.11.5"
  }
 },
 "nbformat": 4,
 "nbformat_minor": 5
}
